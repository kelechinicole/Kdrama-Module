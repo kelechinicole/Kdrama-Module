{
 "cells": [
  {
   "metadata": {},
   "cell_type": "markdown",
   "source": "# KDRAMA ANALYSIS FINAL PROJECT",
   "id": "59ba26b56b8a24c3"
  },
  {
   "metadata": {},
   "cell_type": "markdown",
   "source": [
    "**Name**: Kelechi Iwunze\n",
    "**Afflication**: Sociology, University of Texas at Dallas\n",
    "**Date**: August 15, 2025\n",
    "**GitHub Repository Link**: https://github.com/kelechinicole/Kdrama-Module\n"
   ],
   "id": "4fa1eaa60738748d"
  },
  {
   "metadata": {},
   "cell_type": "markdown",
   "source": [
    "### Abstract\n",
    "#### In my KDrama module Iw as able to create a module that allows users to search for kdramas by title, genre, year, and rating. The module also alows users to pull up the synopsis for any kdrama in the database. As the database is updated, the module will be able to pull up the latest information on any kdrama in the database. This module will help users find new kdramas to watch based on their preferences. if you know an actor who you like, you can search for kdramas that they are in, or if you know a genre that you like, you can search for kdramas in that genre.\n",
    "\n",
    "### Table of Contents (You may customize the structure to match your narrative flow.)\n",
    "1. Introduction (Required)\n",
    "2. Data (Required)\n",
    "3. Methodology\n",
    "4. Results (Required)\n",
    "5. Discussion\n",
    "6. Conclusion (Required)\n",
    "7. References (if applicable)"
   ],
   "id": "48ccbd63b5903678"
  },
  {
   "metadata": {},
   "cell_type": "markdown",
   "source": [
    "## 1. Introduction\n",
    "### 1.1 Background/context\n",
    "#### The reasoning for my module is that I love kdramas and know it can be difficult to find new kdramas to watch. I wanted it to be easy for users to find kdramas that they would like to watch based on their preferences. I also wanted to make it easy for users to keep track of their favorite kdramas and to be able to pull up the latest information on any kdrama in the database. I also wanted to make it easy for users to find new kdramas to watch based on their preferences.\n",
    "### 1.2 Purpose of the analysis\n",
    "##### The purpose of this analysis is to provide a comprehensive overview of the KDrama module I created, which allows users to search for kdramas by title, genre, year, and rating. The module also allows users to pull up the synopsis for any kdrama in the database. As the database is updated, the module will be able to pull up the latest information on any kdrama in the database. This analysis will demonstrate how the module can help users find new kdramas to watch based on their preferences and keep track of their favorite kdramas.\n"
   ],
   "id": "6a9503f5798e76e7"
  },
  {
   "metadata": {},
   "cell_type": "markdown",
   "source": [
    "## 2. Data (Required)\n",
    "### 2.1 Data Description\n",
    "* Source(s) of data:\n",
    "  - The data is sourced from an Excel file containing information about various Kdramas, including their titles, genres, years of release, ratings, and synopses.\n",
    "    - [KDrama Database](r'kdramama.xlsx)\n",
    "* Type of data (quantitative, qualitative, time series, spatial, etc.):\n",
    "  - The data is primarily qualitative, containing categorical information such as titles, genres, and synopses. It also includes quantitative data such as ratings and years of release.\n",
    "* Variables overview\n",
    "    - **Title**: The name of the Kdrama.\n",
    "    - **Genre**: The genre(s) of the Kdrama (e.g., romance, action, thriller).\n",
    "    - **Year**: The year of release of the Kdrama.\n",
    "    - **Rating**: The rating of the Kdrama, typically on a scale from 1 to 10.\n",
    "    - **Synopsis**: A brief description or summary of the Kdrama's plot.\n",
    "    - **Actors**: The main actors or actresses in the Kdrama.\n",
    "* Data collection methods\n",
    "  -   - The information on the Kdramas is collected from various online sources, including streaming platforms, entertainment websites, and fan databases.\n"
   ],
   "id": "4fcf07b0683c38eb"
  },
  {
   "metadata": {},
   "cell_type": "markdown",
   "source": [
    "### 2.2. Data exploration or descriptive stats\n",
    "Because of the nature of the data, the exploration was unnecessary. The data is already in a structured format, and the module is designed to handle the data as it is. I made sure all data was clean before even starting the module. The data is in an Excel file, and the module is designed to read the data from the Excel file and process it as needed. The module is also designed to handle any updates to the data, so users can always get the latest information on any Kdrama in the database."
   ],
   "id": "bb4e0b287dfa39a5"
  },
  {
   "metadata": {},
   "cell_type": "markdown",
   "source": [
    "## 3. Methodology\n",
    "This are a few of the methods I used in my module:\n",
    "* **Data Loading**: The module uses the `pandas` library to load the Kdrama data from an Excel file. This allows for easy manipulation and querying of the data.\n",
    "\n",
    "* def load_excel(path):\n",
    "    return pd.read_excel(path)\n",
    "* **Data Filtering**: The module includes functions to filter Kdramas by various criteria such as title, genre, year, and rating. This allows users to find Kdramas that match their preferences.\n",
    "\n",
    "* def filter_by_column(df, column_name, value):\n",
    "    return df[df[column_name] == value]\n",
    "* **Data Retrieval**: The module provides functions to retrieve specific information about Kdramas, such as their synopsis and ratings. This allows users to get detailed information about a Kdrama\n",
    "* without having to search for it manually.\n",
    "\n",
    "* def get_rating (df, title):\n",
    "   row = df[df['NAME'].str.lower() == title.lower()]\n",
    "   if row.empty:\n",
    "       return f\"No rating found for title: '{title}'.\"\n",
    "   return row['RATING'].values[0]\n",
    "* **Data Presentation**: The module formats the output in a user-friendly manner, making it easy for users to read and understand the information about Kdramas.\n",
    "\n",
    "def get_title_by_rating (df, rating):\n",
    "    titles = df[df['RATING'] == rating]['NAME'].tolist()\n",
    "    if not titles:\n",
    "        return f\"No titles found with rating: {rating}.\"\n",
    "    return titles\n",
    "    ## Get all titles with a specific rating from the DataFrame\n",
    "\n",
    "def pull_synopsis(df, title):\n",
    "    row = df[df['NAME'].str.lower() == title.lower()]\n",
    "    if row.empty:\n",
    "        return f\"No synopsis found for title: '{title}'.\"\n",
    "    return row['SYNOPSIS'].values[0]\n",
    "    ## Pull the synopsis of a specific title from the DataFrame\n",
    "\n",
    "def get_title_by_genre(df, genre):\n",
    "    titles = df[df['GENRE'].str.lower() == genre.lower()]['NAME'].tolist()\n",
    "    if not titles:\n",
    "        return f\"No titles found with genre: {genre}.\"\n",
    "    return titles"
   ],
   "id": "8b96f9b66b8cd475"
  },
  {
   "metadata": {},
   "cell_type": "markdown",
   "source": "## 4. Results",
   "id": "17a1f422f4b576f0"
  },
  {
   "metadata": {
    "ExecuteTime": {
     "end_time": "2025-08-15T18:50:05.153011Z",
     "start_time": "2025-08-15T18:50:04.234650Z"
    }
   },
   "cell_type": "code",
   "source": [
    "import kdram\n",
    "df = kdram.load_excel('kdramama.xlsx')"
   ],
   "id": "251e228a3788d3be",
   "outputs": [],
   "execution_count": 1
  },
  {
   "metadata": {
    "ExecuteTime": {
     "end_time": "2025-08-15T18:52:45.598743Z",
     "start_time": "2025-08-15T18:52:45.565048Z"
    }
   },
   "cell_type": "code",
   "source": [
    "columnfilter = kdram.filter_by_column(df, 'YEAR', 2023)\n",
    "print(columnfilter)"
   ],
   "id": "e22cd24e815933dd",
   "outputs": [
    {
     "name": "stdout",
     "output_type": "stream",
     "text": [
      "    ID                  NAME  \\\n",
      "1    2  TWINKLING WATERMELON   \n",
      "2    3                MOVING   \n",
      "6    7            MY DEAREST   \n",
      "19  20             VIGILANTE   \n",
      "\n",
      "                                             SYNOPSIS  YEAR  RATING  \\\n",
      "1   In 2023, high school student Eun Gyeol, a CODA...  2023     9.2   \n",
      "2   Kim Bong Seok, Jang Hui Su, and Lee Gang Hun, ...  2023     9.0   \n",
      "6   A love-story between a noblewoman and a myster...  2023     8.9   \n",
      "19  Kim Ji Yong, whose mother was murdered by a ma...  2023     8.5   \n",
      "\n",
      "                  FEMALE LEAD                     MALE LEAD  \\\n",
      "1   Seol In Ah & Shin Eun Soo      Ryeo Un & Choi Hyun Wook   \n",
      "2                 Han Hyo Joo  Ryu Seung Ryong & Zo In Sung   \n",
      "6                 Ahn Eun Jin                  Namkoong Min   \n",
      "19                 Kim So Jin                  Nam Joo Hyuk   \n",
      "\n",
      "                  GENRE Unnamed: 8  \n",
      "1               Romance        NaN  \n",
      "2   Supernatural Action        NaN  \n",
      "6    Historical Romance        NaN  \n",
      "19      Action Thriller        NaN  \n"
     ]
    }
   ],
   "execution_count": 2
  },
  {
   "metadata": {
    "ExecuteTime": {
     "end_time": "2025-08-15T18:52:49.222175Z",
     "start_time": "2025-08-15T18:52:49.213979Z"
    }
   },
   "cell_type": "code",
   "source": [
    "rating = kdram.get_rating(df, 'twinkling watermelon')\n",
    "print(rating)"
   ],
   "id": "f5a9a975ee266459",
   "outputs": [
    {
     "name": "stdout",
     "output_type": "stream",
     "text": [
      "9.2\n"
     ]
    }
   ],
   "execution_count": 3
  },
  {
   "metadata": {
    "ExecuteTime": {
     "end_time": "2025-08-15T18:52:50.840448Z",
     "start_time": "2025-08-15T18:52:50.833784Z"
    }
   },
   "cell_type": "code",
   "source": [
    "gettitle = (kdram.get_title_by_rating(df, 8.7))\n",
    "print(gettitle)"
   ],
   "id": "b34b99115ee83fad",
   "outputs": [
    {
     "name": "stdout",
     "output_type": "stream",
     "text": [
      "['WEIGHTLIFTING FAIRY KIM BOK JOO', 'BUSINESS PROPOSAL', 'FLEX X COP', 'SEOUL BUSTERS', 'THE JUGDE FROM HELL', 'QUEEN OF TEARS']\n"
     ]
    }
   ],
   "execution_count": 4
  },
  {
   "metadata": {
    "ExecuteTime": {
     "end_time": "2025-08-15T18:52:52.693132Z",
     "start_time": "2025-08-15T18:52:52.686378Z"
    }
   },
   "cell_type": "code",
   "source": [
    "synopsis = kdram.pull_synopsis(df, 'business proposal')\n",
    "print(synopsis)"
   ],
   "id": "4fd4c8469bf80c88",
   "outputs": [
    {
     "name": "stdout",
     "output_type": "stream",
     "text": [
      "Sin Ha Ri, a single woman, has a crush on her male friend but is heartbroken to learn he has a girlfriend. She meets her friend Jin Yeong Seo, the daughter of a chaebol family, who asks Sin Ha Ri to take her place on a blind date in exchange for money. Sin Ha Ri agrees and goes on the date intending to get rejected. However, she is shocked to discover that her date is Kang Tae Mu, the CEO of her company. Kang Tae Mu, annoyed by his grandfather's blind date arrangements, decides to marry the next woman he meets to avoid further interference. That woman turns out to be Sin Ha Ri, disguised as Jin Yeong Seo. The next day, Kang Tae Mu calls her and asks her to marry him.\n"
     ]
    }
   ],
   "execution_count": 5
  },
  {
   "metadata": {
    "ExecuteTime": {
     "end_time": "2025-08-15T18:52:54.752853Z",
     "start_time": "2025-08-15T18:52:54.746226Z"
    }
   },
   "cell_type": "code",
   "source": [
    "getgenretitle = kdram.get_title_by_genre(df, 'action thriller')\n",
    "print(getgenretitle)"
   ],
   "id": "a05bed7a0ff4ba7f",
   "outputs": [
    {
     "name": "stdout",
     "output_type": "stream",
     "text": [
      "['A SHOP FOR KILLERS', 'FLEX X COP', 'VIGILANTE', 'MY NAME']\n"
     ]
    }
   ],
   "execution_count": 6
  },
  {
   "metadata": {},
   "cell_type": "markdown",
   "source": [
    "## 5. Discussion\n",
    "* Limitations of the analysis\n",
    "    - The analysis is limited to the data available in the Excel file. If the data is not comprehensive or up-to-date, the results may not reflect the current state of Kdramas.\n",
    "    - The module relies on the accuracy of the data provided in the Excel file. Any errors or inconsistencies in the data may affect the results."
   ],
   "id": "1260ae85914991e9"
  },
  {
   "metadata": {},
   "cell_type": "markdown",
   "source": [
    "## 6. Conclusion\n",
    "### Recap of goals and findings\n",
    "#### The goal of this analysis was to demonstrate the functionality of the KDrama module, which allows users to search for Kdramas by title, genre, year, and rating. The module also provides the ability to pull up the synopsis for any Kdrama in the database. The findings show that the module is effective in helping users find Kdramas based on their preferences and keeping track of their favorite Kdramas.\n",
    "\n",
    "### Main takeaway points:\n",
    "* The KDrama module provides a user-friendly interface for searching and retrieving information about Kdramas.\n",
    "* The module allows users to filter Kdramas by various criteria, making it easy to find new Kdramas to watch.\n",
    "* The module can pull up the latest information on Kdramas as the database is updated, ensuring users have access to the most current data.\n",
    "\n",
    "* Recommendations for action or further analysis in the future\n",
    "#### Future analysis could include expanding the database to include more Kdramas, integrating user reviews and ratings, and adding features such as recommendations based on viewing history. Additionally, the module could be enhanced to include more advanced search capabilities, such as searching by director."
   ],
   "id": "3a153e21905f2208"
  },
  {
   "metadata": {},
   "cell_type": "markdown",
   "source": [
    "## 7. References (if applicable)\n",
    "\n",
    "website used to gather data:\n",
    "https://mydramalist.com/"
   ],
   "id": "3231086e6c3c3dd4"
  }
 ],
 "metadata": {
  "kernelspec": {
   "display_name": "Python [conda env:base] *",
   "language": "python",
   "name": "conda-base-py"
  },
  "language_info": {
   "codemirror_mode": {
    "name": "ipython",
    "version": 2
   },
   "file_extension": ".py",
   "mimetype": "text/x-python",
   "name": "python",
   "nbconvert_exporter": "python",
   "pygments_lexer": "ipython2",
   "version": "2.7.6"
  }
 },
 "nbformat": 4,
 "nbformat_minor": 5
}
