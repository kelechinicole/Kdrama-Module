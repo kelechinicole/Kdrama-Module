{
 "cells": [
  {
   "cell_type": "code",
   "id": "initial_id",
   "metadata": {
    "collapsed": true,
    "ExecuteTime": {
     "end_time": "2025-08-03T17:26:07.877217Z",
     "start_time": "2025-08-03T17:26:06.993130Z"
    }
   },
   "source": [
    "import kdram\n",
    "\n"
   ],
   "outputs": [],
   "execution_count": 1
  },
  {
   "metadata": {
    "ExecuteTime": {
     "end_time": "2025-08-03T17:27:02.040832Z",
     "start_time": "2025-08-03T17:27:01.155087Z"
    }
   },
   "cell_type": "code",
   "source": "df = kdram.load_excel('kdramama.xlsx')",
   "id": "a27ec8897dd3c35a",
   "outputs": [],
   "execution_count": 2
  },
  {
   "metadata": {
    "ExecuteTime": {
     "end_time": "2025-08-03T17:27:11.089647Z",
     "start_time": "2025-08-03T17:27:11.064650Z"
    }
   },
   "cell_type": "code",
   "source": "print(df.head())",
   "id": "737efe00524895d1",
   "outputs": [
    {
     "name": "stdout",
     "output_type": "stream",
     "text": [
      "   ID                  NAME  \\\n",
      "0   1        MOVE TO HEAVEN   \n",
      "1   2  TWINKLING WATERMELON   \n",
      "2   3                MOVING   \n",
      "3   4         LOVELY RUNNER   \n",
      "4   5  CRASH LANDING ON YOU   \n",
      "\n",
      "                                            SYNOPSIS  YEAR  RATING  \\\n",
      "0  Han Geu Roo is an autistic 20-year-old. He wor...  2021     9.1   \n",
      "1  In 2023, high school student Eun Gyeol, a CODA...  2023     9.2   \n",
      "2  Kim Bong Seok, Jang Hui Su, and Lee Gang Hun, ...  2023     9.0   \n",
      "3  In the glitzy realm of stardom, Ryu Seon Jae s...  2024     9.0   \n",
      "4  After getting into a paragliding accident, Sou...  2020     9.0   \n",
      "\n",
      "                 FEMALE LEAD                     MALE LEAD  \\\n",
      "0             Hong Seung Hee   Lee Je Hoon & Tang Jun Sang   \n",
      "1  Seol In Ah & Shin Eun Soo      Ryeo Un & Choi Hyun Wook   \n",
      "2                Han Hyo Joo  Ryu Seung Ryong & Zo In Sung   \n",
      "3               Kim Hye Yoon                Byeon Woo Seok   \n",
      "4                 Son Ye Jin                      Hyun Bin   \n",
      "\n",
      "                 GENRE Unnamed: 8  \n",
      "0                 Life        NaN  \n",
      "1              Romance        NaN  \n",
      "2  Supernatural Action        NaN  \n",
      "3       Comedy Romance        NaN  \n",
      "4              Romance        NaN  \n"
     ]
    }
   ],
   "execution_count": 3
  },
  {
   "metadata": {
    "ExecuteTime": {
     "end_time": "2025-08-03T17:40:53.113328Z",
     "start_time": "2025-08-03T17:40:53.086503Z"
    }
   },
   "cell_type": "code",
   "source": [
    "columnfilter = kdram.filter_by_column(df, 'YEAR', 2023)\n",
    "print(columnfilter)"
   ],
   "id": "108a0a3bcc261f8e",
   "outputs": [
    {
     "name": "stdout",
     "output_type": "stream",
     "text": [
      "    ID                  NAME  \\\n",
      "1    2  TWINKLING WATERMELON   \n",
      "2    3                MOVING   \n",
      "6    7            MY DEAREST   \n",
      "19  20             VIGILANTE   \n",
      "\n",
      "                                             SYNOPSIS  YEAR  RATING  \\\n",
      "1   In 2023, high school student Eun Gyeol, a CODA...  2023     9.2   \n",
      "2   Kim Bong Seok, Jang Hui Su, and Lee Gang Hun, ...  2023     9.0   \n",
      "6   A love-story between a noblewoman and a myster...  2023     8.9   \n",
      "19  Kim Ji Yong, whose mother was murdered by a ma...  2023     8.5   \n",
      "\n",
      "                  FEMALE LEAD                     MALE LEAD  \\\n",
      "1   Seol In Ah & Shin Eun Soo      Ryeo Un & Choi Hyun Wook   \n",
      "2                 Han Hyo Joo  Ryu Seung Ryong & Zo In Sung   \n",
      "6                 Ahn Eun Jin                  Namkoong Min   \n",
      "19                 Kim So Jin                  Nam Joo Hyuk   \n",
      "\n",
      "                  GENRE Unnamed: 8  \n",
      "1               Romance        NaN  \n",
      "2   Supernatural Action        NaN  \n",
      "6    Historical Romance        NaN  \n",
      "19      Action Thriller        NaN  \n"
     ]
    }
   ],
   "execution_count": 5
  },
  {
   "metadata": {
    "ExecuteTime": {
     "end_time": "2025-08-03T17:42:27.550792Z",
     "start_time": "2025-08-03T17:42:27.539480Z"
    }
   },
   "cell_type": "code",
   "source": [
    "rating = kdram.get_rating(df, 'twinkling watermelon')\n",
    "print(rating)"
   ],
   "id": "f0b0f64e83ae4cb1",
   "outputs": [
    {
     "name": "stdout",
     "output_type": "stream",
     "text": [
      "9.2\n"
     ]
    }
   ],
   "execution_count": 6
  },
  {
   "metadata": {
    "ExecuteTime": {
     "end_time": "2025-08-03T17:48:10.331251Z",
     "start_time": "2025-08-03T17:48:10.313659Z"
    }
   },
   "cell_type": "code",
   "source": [
    "gettitle = (kdram.\n",
    "            get_title_by_rating(df, 8.7))\n",
    "print(gettitle)"
   ],
   "id": "60700ed5fba940f3",
   "outputs": [
    {
     "name": "stdout",
     "output_type": "stream",
     "text": [
      "['WEIGHTLIFTING FAIRY KIM BOK JOO', 'BUSINESS PROPOSAL', 'FLEX X COP', 'SEOUL BUSTERS', 'THE JUGDE FROM HELL', 'QUEEN OF TEARS']\n"
     ]
    }
   ],
   "execution_count": 8
  },
  {
   "metadata": {
    "ExecuteTime": {
     "end_time": "2025-08-03T17:56:50.760248Z",
     "start_time": "2025-08-03T17:56:50.745443Z"
    }
   },
   "cell_type": "code",
   "source": [
    "synopsis = kdram.pull_synopsis(df, 'business proposal')\n",
    "print(synopsis)"
   ],
   "id": "76d1921a5717d051",
   "outputs": [
    {
     "name": "stdout",
     "output_type": "stream",
     "text": [
      "Sin Ha Ri, a single woman, has a crush on her male friend but is heartbroken to learn he has a girlfriend. She meets her friend Jin Yeong Seo, the daughter of a chaebol family, who asks Sin Ha Ri to take her place on a blind date in exchange for money. Sin Ha Ri agrees and goes on the date intending to get rejected. However, she is shocked to discover that her date is Kang Tae Mu, the CEO of her company. Kang Tae Mu, annoyed by his grandfather's blind date arrangements, decides to marry the next woman he meets to avoid further interference. That woman turns out to be Sin Ha Ri, disguised as Jin Yeong Seo. The next day, Kang Tae Mu calls her and asks her to marry him.\n"
     ]
    }
   ],
   "execution_count": 11
  },
  {
   "metadata": {
    "ExecuteTime": {
     "end_time": "2025-08-03T17:59:56.265789Z",
     "start_time": "2025-08-03T17:59:56.259946Z"
    }
   },
   "cell_type": "code",
   "source": [
    "getgenretitle = kdram.get_title_by_genre(df, 'action thriller')\n",
    "print(getgenretitle)"
   ],
   "id": "83baea1ddfb24d90",
   "outputs": [
    {
     "name": "stdout",
     "output_type": "stream",
     "text": [
      "['A SHOP FOR KILLERS', 'FLEX X COP', 'VIGILANTE', 'MY NAME']\n"
     ]
    }
   ],
   "execution_count": 13
  },
  {
   "metadata": {},
   "cell_type": "code",
   "outputs": [],
   "execution_count": null,
   "source": "",
   "id": "3e300b6389d01fe2"
  }
 ],
 "metadata": {
  "kernelspec": {
   "display_name": "Python [conda env:base] *",
   "language": "python",
   "name": "conda-base-py"
  },
  "language_info": {
   "codemirror_mode": {
    "name": "ipython",
    "version": 2
   },
   "file_extension": ".py",
   "mimetype": "text/x-python",
   "name": "python",
   "nbconvert_exporter": "python",
   "pygments_lexer": "ipython2",
   "version": "2.7.6"
  }
 },
 "nbformat": 4,
 "nbformat_minor": 5
}
